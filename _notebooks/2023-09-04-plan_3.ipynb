{
 "cells": [
  {
   "cell_type": "code",
   "execution_count": null,
   "metadata": {},
   "outputs": [],
   "source": [
    "---\n",
    "layout: post\n",
    "title: Daily Plan Week 3\n",
    "description: Daily Plan for Week 3\n",
    "toc: true\n",
    "comments: true\n",
    "categories: [5.A, C4.1]\n",
    "courses: { compsci: {week: 3} }\n",
    "type: plans\n",
    "---"
   ]
  },
  {
   "cell_type": "markdown",
   "metadata": {},
   "source": [
    " Ask Teacher questions and interact with them on Slack or live by end of Mon, Tue…. particularly interact with Teacher when you have posted a draft of your plan. This would be considered Collaboration.Try to get feedback from Teacher on Plan.<br>\n",
    "\n",
    " Results must have Linux and interaction in VSCode (Jupyter Notebook)<br>\n",
    "\n",
    " Results must have Web interaction in JavaScript<br>\n",
    "\n",
    " Snake Game try to make Apple square red or add red apple; or add WASD keys.<br>\n",
    "\n",
    " Bring these into GitHub pages repo as Hacks or Tangibles on you Time Box page.<br>\n",
    "\n",
    " Review code with ChatGPT, perhaps ask \"Can you provide a review of \n",
    " this code?\" Then paste in code. Curate response into page(s).<br>\n",
    "\n",
    " Plan your Pair Showcase, know exactly what you will present. Try to do it within 3 minutes.\n",
    "<br>\n",
    " Build a review ticket with pair in Time Box page to accelerate discussion.<br>\n",
    "\n",
    " Be ready for Live review on Thu or Friday.<br>"
   ]
  }
 ],
 "metadata": {
  "language_info": {
   "name": "python"
  },
  "orig_nbformat": 4
 },
 "nbformat": 4,
 "nbformat_minor": 2
}
