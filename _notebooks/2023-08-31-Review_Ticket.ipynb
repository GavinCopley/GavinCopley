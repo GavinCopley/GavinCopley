{
 "cells": [
  {
   "cell_type": "code",
   "execution_count": null,
   "metadata": {},
   "outputs": [],
   "source": [
    "---\n",
    "toc: True\n",
    "comments: true\n",
    "layout: post\n",
    "title: Review Ticket Week 2\n",
    "description: This is a review of everything learned in week 2\n",
    "type: tangibles\n",
    "courses: { compsci: {week: 2} }\n",
    "categories: [C4.1]\n",
    "---"
   ]
  },
  {
   "cell_type": "markdown",
   "metadata": {},
   "source": [
    "## How to make an image\n",
    ">Use this template (make sure to add  < >): <br>\n",
    ">img alt=\"example\" src=\"{{site.baseurl}}/images/example.png\" title=\"anything\" width=\"250\" length=\"250\""
   ]
  },
  {
   "cell_type": "markdown",
   "metadata": {},
   "source": [
    "## Example of markdown table\n",
    "#### Comparison of CB Pseudo Code to Python with descriptions\n",
    "\n",
    "Command Vocabulary | Pseudo code         | Python                 | Purpose\n",
    "Output       | DISPLAY(expression) | print(expression, end=\" \") | Displays the value of expression, followed by a space. Python defaults to newline, thus the end=\" \"\n",
    "Input        | a ← INPUT()         | a = input(prompt)      | Accepts a value from the user and returns it to the variable a.\n",
    "Assignment   |\ta ← expression\t   | a = expression         | Evaluates expression and assigns the result to the variable a.\n",
    "Selection    | IF (expression)     | if expression:         | Run commands in the code block associated with the selection\n",
    "Iteration n times     |\tREPEAT n TIMES      | for i in range(n): | Repeat commands in the code block associated withe the iteration n times\n",
    "Iteration expression  | REPEAT UNTIL (expression) |\twhile expression: |  Repeat commands in the code block associated withe the iteration while expression is true\n",
    "List Assignment | list ← [expression1, expression2, expression3] | list = [expression1, expression2, expression3] | Assigns 3 values to list, value can be literal or expressions\n",
    "First index in List     |\tlist[1] | list[0] | Access the 1st element in the list[].  FYI, most programming languages start a zero.\n",
    "Last index in List    | list[LENGTH(list)] | list[len(list) - 1] | Access the last element in the list[].  If you start at zero, last element is length - 1.\n",
    "Define Procedure      | PROCEDURE name (parameter) | def name(parameter): |  Create a procedure containing a sequence of programming instructions.\n",
    "Expression equals     |\ta = b\t| a == b  | Evaluate if assigned value of a equals assigned value of b\n",
    "Expression not equals |\ta ≠ b\t| a != b  | Evaluate if assigned value of a is NOT equal to assigned value of b"
   ]
  },
  {
   "cell_type": "markdown",
   "metadata": {},
   "source": [
    "<img alt=\"week2\" src=\"{{site.baseurl}}/images/screenshot2.png\" title=\"week2\" width=\"1000\" length=\"1000\">"
   ]
  }
 ],
 "metadata": {
  "language_info": {
   "name": "python"
  },
  "orig_nbformat": 4
 },
 "nbformat": 4,
 "nbformat_minor": 2
}
