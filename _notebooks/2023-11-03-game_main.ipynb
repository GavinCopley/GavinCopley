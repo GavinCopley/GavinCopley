{
 "cells": [
  {
   "cell_type": "code",
   "execution_count": null,
   "metadata": {},
   "outputs": [],
   "source": [
    "---\n",
    "toc: false\n",
    "layout: post\n",
    "title: JS Game Overview\n",
    "description: Overview of the JS game project\n",
    "courses: { compsci: {week: 11} }\n",
    "type: plans\n",
    "---"
   ]
  },
  {
   "cell_type": "markdown",
   "metadata": {},
   "source": [
    "{% include nav_sharedGame.html %}"
   ]
  },
  {
   "cell_type": "markdown",
   "metadata": {},
   "source": [
    "### Overview\n",
    "- This is the main page to visit each development stage as well as my reflection and the resources I used to complete this.\n",
    "adadsaddddasddddddddddddddddddddddd write info"
   ]
  },
  {
   "cell_type": "markdown",
   "metadata": {},
   "source": [
    "## About\n",
    "- This is about the game that me, John, Ian, and Matthew worked on together."
   ]
  }
 ],
 "metadata": {
  "language_info": {
   "name": "python"
  },
  "orig_nbformat": 4
 },
 "nbformat": 4,
 "nbformat_minor": 2
}
